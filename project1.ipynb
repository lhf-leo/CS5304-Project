{
 "cells": [
  {
   "cell_type": "code",
   "execution_count": 12,
   "metadata": {
    "collapsed": true
   },
   "outputs": [],
   "source": [
    "import pandas as pd\n",
    "import numpy as np\n",
    "import json\n",
    "import pickle\n",
    "from sklearn.feature_extraction.text import CountVectorizer, TfidfTransformer\n",
    "from sklearn.linear_model import LogisticRegression\n",
    "from sklearn.pipeline import Pipeline"
   ]
  },
  {
   "cell_type": "code",
   "execution_count": 71,
   "metadata": {},
   "outputs": [],
   "source": [
    "data = []\n",
    "with open('dataset/review.json') as f:\n",
    "    for line in f:\n",
    "        data.append(json.loads(line))\n",
    "\n",
    "dataframe = pd.DataFrame(data)\n",
    "\n",
    "df = dataframe[['text','stars']]\n",
    "train, validate, test = np.split(df.sample(frac=.20), [int(.15*len(df)), int(.175*len(df))])\n",
    "\n",
    "pickle.dump(test, open('data/test.dat', 'wb'))\n",
    "pickle.dump(validate, open('data/validate.dat', 'wb'))\n",
    "pickle.dump(train, open('data/train.dat', 'wb'))"
   ]
  },
  {
   "cell_type": "code",
   "execution_count": 72,
   "metadata": {},
   "outputs": [],
   "source": [
    "train = pickle.load(open('data/train.dat', 'rb'))\n",
    "validate = pickle.load(open('data/validate.dat', 'rb'))\n",
    "test = pickle.load(open('data/test.dat', 'rb'))"
   ]
  },
  {
   "cell_type": "code",
   "execution_count": 76,
   "metadata": {},
   "outputs": [
    {
     "name": "stdout",
     "output_type": "stream",
     "text": [
      "789250 131542 131542\n",
      "1 0.13884573962622743\n",
      "2 0.08261260690528983\n",
      "3 0.11707697180867913\n",
      "4 0.23296927462781122\n",
      "5 0.4284954070319924\n"
     ]
    }
   ],
   "source": [
    "total=train.shape[0]\n",
    "print(total,validate.shape[0],test.shape[0])\n",
    "for i in range(1,6):\n",
    "    print(i, train[train['stars']==i].shape[0]/total)"
   ]
  },
  {
   "cell_type": "code",
   "execution_count": 78,
   "metadata": {},
   "outputs": [
    {
     "name": "stdout",
     "output_type": "stream",
     "text": [
      "accuracy: 0.655843760928\n"
     ]
    }
   ],
   "source": [
    "train_data, train_labels = train['text'],train['stars']\n",
    "test_data, test_labels = validate['text'],validate['stars']\n",
    "\n",
    "text_clf = Pipeline([('vec', CountVectorizer(stop_words='english')),\n",
    "                    ('tfidf', TfidfTransformer()),\n",
    "                    ('model', LogisticRegression()),\n",
    "])\n",
    "\n",
    "text_clf = text_clf.fit(train_data, train_labels)\n",
    "\n",
    "predicted = text_clf.predict(test_data)\n",
    "\n",
    "print(\"accuracy:\", np.mean(predicted == test_labels))"
   ]
  },
  {
   "cell_type": "code",
   "execution_count": 86,
   "metadata": {},
   "outputs": [
    {
     "name": "stdout",
     "output_type": "stream",
     "text": [
      "1 0.828605586349\n",
      "2 0.234343247737\n",
      "3 0.3082620355\n",
      "4 0.473060202872\n",
      "5 0.875746162592\n"
     ]
    }
   ],
   "source": [
    "for i in range(1,6):\n",
    "    print(i, mean(predicted[test_labels==i]==i))"
   ]
  }
 ],
 "metadata": {
  "kernelspec": {
   "display_name": "Python 3",
   "language": "python",
   "name": "python3"
  },
  "language_info": {
   "codemirror_mode": {
    "name": "ipython",
    "version": 3
   },
   "file_extension": ".py",
   "mimetype": "text/x-python",
   "name": "python",
   "nbconvert_exporter": "python",
   "pygments_lexer": "ipython3",
   "version": "3.6.3"
  }
 },
 "nbformat": 4,
 "nbformat_minor": 2
}
